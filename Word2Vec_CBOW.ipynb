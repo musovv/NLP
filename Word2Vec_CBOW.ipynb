{
 "cells": [
  {
   "cell_type": "code",
   "execution_count": 90,
   "id": "initial_id",
   "metadata": {
    "collapsed": true,
    "ExecuteTime": {
     "end_time": "2024-06-23T21:55:39.878249Z",
     "start_time": "2024-06-23T21:55:39.870840Z"
    }
   },
   "outputs": [
    {
     "name": "stdout",
     "output_type": "stream",
     "text": [
      "CUDA is not available.\n"
     ]
    }
   ],
   "source": [
    "import time\n",
    "from random import random\n",
    "import random\n",
    "from preprocess_data import PreprocessData\n",
    "import torch\n",
    "import torch.nn as nn\n",
    "import torch.nn.functional as F\n",
    "import torch.optim as optim\n",
    "import torch.utils.data\n",
    "# import torchvision\n",
    "# from matplotlib import pyplot as plt\n",
    "\n",
    "if torch.cuda.is_available():\n",
    "    print('CUDA is available!')\n",
    "    # Get the index of the current GPU device\n",
    "    print('Current GPU Device:', torch.cuda.current_device())\n",
    "    # Get properties of the current GPU\n",
    "    print('GPU Properties:', torch.cuda.get_device_properties(torch.cuda.current_device()))\n",
    "else:\n",
    "    print('CUDA is not available.')\n",
    "\n",
    "torch.manual_seed(1)\n",
    "device = torch.device(\"cuda\" if torch.cuda.is_available() else \"cpu\")\n",
    "\n",
    "EPOCH = 50\n",
    "BATCH_SIZE = 32\n",
    "LR = 0.01\n",
    "CONTEXT_SIZE = 3\n",
    "EMBEDDING_DIM = 20"
   ]
  },
  {
   "cell_type": "code",
   "execution_count": 91,
   "outputs": [
    {
     "name": "stderr",
     "output_type": "stream",
     "text": [
      "[nltk_data] Downloading package stopwords to\n",
      "[nltk_data]     /Users/vadimmusatskov/nltk_data...\n",
      "[nltk_data]   Package stopwords is already up-to-date!\n",
      "[nltk_data] Downloading package punkt to\n",
      "[nltk_data]     /Users/vadimmusatskov/nltk_data...\n",
      "[nltk_data]   Package punkt is already up-to-date!\n",
      "100%|██████████| 10/10 [00:15<00:00,  1.50s/it]\n"
     ]
    },
    {
     "name": "stdout",
     "output_type": "stream",
     "text": [
      "Number of words: 139796\n",
      "Vocabulary size: 12510\n",
      "Example of word to index: [('cozeners', 0), ('leave', 1), ('slaught', 2), ('bleats', 3), ('beaver', 4)]\n",
      "Example of index to word: [(0, 'cozeners'), (1, 'leave'), (2, 'slaught'), (3, 'bleats'), (4, 'beaver')]\n",
      "Number of context-target pairs: 139790\n",
      "Example of context-target pair: tensor([7448, 6732, 2736, 5248, 3531, 7938]) - tensor([7553, 5248, 3531,  ..., 1915, 6048, 1120])\n"
     ]
    }
   ],
   "source": [
    "## Preprocess Data ## \n",
    "p = PreprocessData()\n",
    "p.download_data(from_id=1513, limit=10)\n",
    "words = p.tokenize(remove_stop_words=True)\n",
    "print(f'Number of words: {len(words)}')\n",
    "\n",
    "vocab = set(words)\n",
    "print(f'Vocabulary size: {len(vocab)}')\n",
    "word_to_idx = {word: i for i, word in enumerate(vocab)}\n",
    "print(f'Example of word to index: {list(word_to_idx.items())[:5]}')\n",
    "idx_to_word = {i: word for word, i in word_to_idx.items()}\n",
    "print(f'Example of index to word: {list(idx_to_word.items())[:5]}')\n",
    "\n",
    "## Context-Target pairs ##\n",
    "X = []\n",
    "Y = []\n",
    "for i in range(CONTEXT_SIZE, len(words) - CONTEXT_SIZE):\n",
    "    context = (\n",
    "            [word_to_idx[words[i - j]] for j in range(1,CONTEXT_SIZE+1)]\n",
    "            + [word_to_idx[words[i + j]] for j in range(1,CONTEXT_SIZE+1)]\n",
    "    )\n",
    "    target = word_to_idx[words[i]]\n",
    "    X.append(context)\n",
    "    Y.append(target)\n",
    "X = torch.tensor(X)\n",
    "Y = torch.tensor(Y)\n",
    "    # data.append((context, target))\n",
    "print(f'Number of context-target pairs: {len(X)}')\n",
    "print(f'Example of context-target pair: {X[0]} - {Y}')\n",
    "\n"
   ],
   "metadata": {
    "collapsed": false,
    "ExecuteTime": {
     "end_time": "2024-06-23T21:55:57.658141Z",
     "start_time": "2024-06-23T21:55:41.699671Z"
    }
   },
   "id": "8a222e8ed3e7e7d7"
  },
  {
   "cell_type": "code",
   "execution_count": 92,
   "outputs": [],
   "source": [
    "## Model ##\n",
    "\n",
    "class Model(nn.Module):\n",
    "    def __init__(self, vocab_size, embedding_dim, context_size):\n",
    "        super(Model, self).__init__()\n",
    "        self.embeddings = nn.Embedding(vocab_size, embedding_dim).to(device)\n",
    "        self.linear = nn.Linear(embedding_dim, vocab_size).to(device)\n",
    "\n",
    "    def forward(self, inputs):\n",
    "        embeds = self.embeddings(inputs)\n",
    "        embeds = torch.sum(embeds, dim=1, keepdim=False)\n",
    "        out = self.linear(embeds)\n",
    "        return F.log_softmax(out, dim=1)  # softmax compute log probability\n",
    "\n",
    "\n",
    "loss_function = nn.NLLLoss()\n",
    "model = Model(len(vocab), EMBEDDING_DIM, CONTEXT_SIZE)\n",
    "\n",
    "optimizer = optim.Adam(model.parameters(), lr=LR)\n",
    "\n",
    "    \n",
    "# def generate_batches(data_, batch_size):\n",
    "#     for i in range(0, len(data_), batch_size):\n",
    "#         yield data_[i: i + batch_size]\n",
    "        \n",
    "class SimpleIterableDataset(torch.utils.data.IterableDataset):\n",
    "    def __init__(self, X, Y):\n",
    "        super(SimpleIterableDataset).__init__()\n",
    "        self.data = []\n",
    "        for i in range(len(X)):\n",
    "            self.data.append( (Y[i], X[i]) )\n",
    "        random.shuffle(self.data)\n",
    "\n",
    "    def __iter__(self):\n",
    "        return iter(self.data)\n"
   ],
   "metadata": {
    "collapsed": false,
    "ExecuteTime": {
     "end_time": "2024-06-23T21:55:57.665152Z",
     "start_time": "2024-06-23T21:55:57.659365Z"
    }
   },
   "id": "6a26cff78cf34c2e"
  },
  {
   "cell_type": "code",
   "execution_count": 93,
   "outputs": [],
   "source": [
    "ds = SimpleIterableDataset(X, Y)\n",
    "dl = torch.utils.data.DataLoader(ds, batch_size = BATCH_SIZE)"
   ],
   "metadata": {
    "collapsed": false,
    "ExecuteTime": {
     "end_time": "2024-06-23T21:55:58.098379Z",
     "start_time": "2024-06-23T21:55:57.665411Z"
    }
   },
   "id": "16124a7d566951f0"
  },
  {
   "cell_type": "code",
   "execution_count": 94,
   "outputs": [
    {
     "name": "stdout",
     "output_type": "stream",
     "text": [
      "Epoch 1/50 | Loss: 1069.96 | Time: 13.44s\n",
      "Epoch 2/50 | Loss: 924.25 | Time: 13.53s\n",
      "Epoch 3/50 | Loss: 864.46 | Time: 13.15s\n",
      "Epoch 4/50 | Loss: 825.60 | Time: 13.42s\n",
      "Epoch 5/50 | Loss: 796.64 | Time: 13.61s\n",
      "Epoch 6/50 | Loss: 774.60 | Time: 14.36s\n",
      "Epoch 7/50 | Loss: 757.06 | Time: 14.24s\n",
      "Epoch 8/50 | Loss: 742.97 | Time: 13.74s\n",
      "Epoch 9/50 | Loss: 731.48 | Time: 13.38s\n",
      "Epoch 10/50 | Loss: 722.21 | Time: 13.46s\n",
      "Epoch 11/50 | Loss: 714.30 | Time: 13.32s\n",
      "Epoch 12/50 | Loss: 707.69 | Time: 13.81s\n",
      "Epoch 13/50 | Loss: 702.31 | Time: 13.78s\n",
      "Epoch 14/50 | Loss: 697.71 | Time: 14.16s\n",
      "Epoch 15/50 | Loss: 693.35 | Time: 14.63s\n",
      "Epoch 16/50 | Loss: 690.05 | Time: 14.54s\n",
      "Epoch 17/50 | Loss: 686.86 | Time: 14.24s\n",
      "Epoch 18/50 | Loss: 684.43 | Time: 14.97s\n",
      "Epoch 19/50 | Loss: 681.68 | Time: 14.98s\n",
      "Epoch 20/50 | Loss: 679.70 | Time: 15.16s\n",
      "Epoch 21/50 | Loss: 677.29 | Time: 17.71s\n",
      "Epoch 22/50 | Loss: 675.55 | Time: 16.34s\n",
      "Epoch 23/50 | Loss: 673.61 | Time: 16.92s\n",
      "Epoch 24/50 | Loss: 672.22 | Time: 18.00s\n",
      "Epoch 25/50 | Loss: 670.61 | Time: 16.57s\n",
      "Epoch 26/50 | Loss: 669.46 | Time: 17.60s\n",
      "Epoch 27/50 | Loss: 668.14 | Time: 14.71s\n",
      "Epoch 28/50 | Loss: 666.84 | Time: 14.94s\n",
      "Epoch 29/50 | Loss: 665.79 | Time: 15.38s\n",
      "Epoch 30/50 | Loss: 664.83 | Time: 15.11s\n",
      "Epoch 31/50 | Loss: 663.81 | Time: 14.13s\n",
      "Epoch 32/50 | Loss: 662.95 | Time: 15.81s\n",
      "Epoch 33/50 | Loss: 662.25 | Time: 14.74s\n",
      "Epoch 34/50 | Loss: 660.82 | Time: 18.57s\n",
      "Epoch 35/50 | Loss: 660.51 | Time: 14.94s\n",
      "Epoch 36/50 | Loss: 659.82 | Time: 13.90s\n",
      "Epoch 37/50 | Loss: 658.61 | Time: 13.48s\n",
      "Epoch 38/50 | Loss: 657.99 | Time: 13.43s\n",
      "Epoch 39/50 | Loss: 657.70 | Time: 14.08s\n",
      "Epoch 40/50 | Loss: 656.98 | Time: 13.69s\n",
      "Epoch 41/50 | Loss: 656.18 | Time: 13.63s\n",
      "Epoch 42/50 | Loss: 655.69 | Time: 14.05s\n",
      "Epoch 43/50 | Loss: 655.65 | Time: 14.25s\n",
      "Epoch 44/50 | Loss: 654.55 | Time: 15.09s\n",
      "Epoch 45/50 | Loss: 654.23 | Time: 14.65s\n",
      "Epoch 46/50 | Loss: 654.02 | Time: 13.28s\n",
      "Epoch 47/50 | Loss: 653.56 | Time: 13.26s\n",
      "Epoch 48/50 | Loss: 652.71 | Time: 13.79s\n",
      "Epoch 49/50 | Loss: 652.66 | Time: 14.02s\n",
      "Epoch 50/50 | Loss: 652.32 | Time: 13.96s\n"
     ]
    }
   ],
   "source": [
    "## Training ##\n",
    "# TRAIN:\n",
    "losses = []\n",
    "for epoch in range(EPOCH):\n",
    "    start = time.time()\n",
    "    total_loss = 0\n",
    "    # for batch in generate_batches(data, BATCH_SIZE):\n",
    "    for labels, features in dl:\n",
    "        model.zero_grad()\n",
    "        log_probs = model(features)\n",
    "        loss = loss_function(log_probs, labels)\n",
    "        loss /= len(labels)\n",
    "        loss.backward()\n",
    "        optimizer.step()\n",
    "        total_loss += loss\n",
    "    \n",
    "    losses.append(total_loss)\n",
    "    print(f'Epoch {epoch+1}/{EPOCH} | Loss: {total_loss:.2f} | Time: {time.time() - start:.2f}s')\n"
   ],
   "metadata": {
    "collapsed": false,
    "ExecuteTime": {
     "end_time": "2024-06-23T22:08:08.142697Z",
     "start_time": "2024-06-23T21:55:58.099674Z"
    }
   },
   "id": "a727a3721d0f180b"
  },
  {
   "cell_type": "code",
   "execution_count": null,
   "outputs": [],
   "source": [
    "    "
   ],
   "metadata": {
    "collapsed": false
   },
   "id": "9af0b77ad8f580bf"
  }
 ],
 "metadata": {
  "kernelspec": {
   "display_name": "Python 3",
   "language": "python",
   "name": "python3"
  },
  "language_info": {
   "codemirror_mode": {
    "name": "ipython",
    "version": 2
   },
   "file_extension": ".py",
   "mimetype": "text/x-python",
   "name": "python",
   "nbconvert_exporter": "python",
   "pygments_lexer": "ipython2",
   "version": "2.7.6"
  }
 },
 "nbformat": 4,
 "nbformat_minor": 5
}
