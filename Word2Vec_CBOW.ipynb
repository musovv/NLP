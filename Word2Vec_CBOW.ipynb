{
 "cells": [
  {
   "cell_type": "code",
   "execution_count": 4,
   "id": "initial_id",
   "metadata": {
    "collapsed": true,
    "ExecuteTime": {
     "end_time": "2024-06-23T14:58:25.925117Z",
     "start_time": "2024-06-23T14:58:25.919111Z"
    }
   },
   "outputs": [
    {
     "name": "stdout",
     "output_type": "stream",
     "text": [
      "CUDA is not available.\n"
     ]
    }
   ],
   "source": [
    "import time\n",
    "from random import random\n",
    "from preprocess_data import PreprocessData\n",
    "import torch\n",
    "import torch.nn as nn\n",
    "import torch.nn.functional as F\n",
    "import torch.optim as optim\n",
    "# import torchvision\n",
    "# from matplotlib import pyplot as plt\n",
    "\n",
    "if torch.cuda.is_available():\n",
    "    print('CUDA is available!')\n",
    "    # Get the index of the current GPU device\n",
    "    print('Current GPU Device:', torch.cuda.current_device())\n",
    "    # Get properties of the current GPU\n",
    "    print('GPU Properties:', torch.cuda.get_device_properties(torch.cuda.current_device()))\n",
    "else:\n",
    "    print('CUDA is not available.')\n",
    "\n",
    "torch.manual_seed(1)\n",
    "device = torch.device(\"cuda\" if torch.cuda.is_available() else \"cpu\")\n",
    "\n",
    "EPOCH = 100\n",
    "BATCH_SIZE = 64\n",
    "LR = 0.01\n",
    "CONTEXT_SIZE = 2\n",
    "EMBEDDING_DIM = 10"
   ]
  },
  {
   "cell_type": "code",
   "execution_count": 9,
   "outputs": [
    {
     "name": "stderr",
     "output_type": "stream",
     "text": [
      "[nltk_data] Downloading package stopwords to\n",
      "[nltk_data]     /Users/vadimmusatskov/nltk_data...\n",
      "[nltk_data]   Package stopwords is already up-to-date!\n",
      "[nltk_data] Downloading package punkt to\n",
      "[nltk_data]     /Users/vadimmusatskov/nltk_data...\n",
      "[nltk_data]   Package punkt is already up-to-date!\n",
      "100%|██████████| 5/5 [00:07<00:00,  1.50s/it]\n"
     ]
    },
    {
     "name": "stdout",
     "output_type": "stream",
     "text": [
      "Number of words: 68525\n",
      "Number of context-target pairs: 68521\n",
      "Example of context-target pair: (['ebook', 'gutenberg', 'ebook', 'tragedy'], 'gutenberg')\n"
     ]
    }
   ],
   "source": [
    "## Preprocess Data ## \n",
    "p = PreprocessData()\n",
    "p.download_data(from_id=1513, limit=5)\n",
    "words = p.tokenize(remove_stop_words=True)\n",
    "print(f'Number of words: {len(words)}')\n",
    "\n",
    "## Context-Target pairs ##\n",
    "data = []\n",
    "for i in range(CONTEXT_SIZE, len(words) - CONTEXT_SIZE):\n",
    "    context = (\n",
    "            [words[i - (j - 1)] for j in range(CONTEXT_SIZE)]\n",
    "            + [words[i + (j + 1)] for j in range(CONTEXT_SIZE)]\n",
    "    )\n",
    "    target = words[i]\n",
    "    data.append((context, target))\n",
    "print(f'Number of context-target pairs: {len(data)}')\n",
    "print(f'Example of context-target pair: {data[0]}')\n",
    "\n",
    "vocab = set(words)\n",
    "word_to_ix = {word: i for i, word in enumerate(vocab)}"
   ],
   "metadata": {
    "collapsed": false,
    "ExecuteTime": {
     "end_time": "2024-06-23T15:12:00.063590Z",
     "start_time": "2024-06-23T15:11:52.130940Z"
    }
   },
   "id": "8a222e8ed3e7e7d7"
  },
  {
   "cell_type": "code",
   "execution_count": 10,
   "outputs": [],
   "source": [
    "## Model ##\n",
    "\n",
    "class Model(nn.Module):\n",
    "    def __init__(self, vocab_size, embedding_dim, context_size):\n",
    "        super(Model, self).__init__()\n",
    "        self.embeddings = nn.Embedding(vocab_size, embedding_dim).to(device)\n",
    "        self.linear = nn.Linear(embedding_dim, vocab_size).to(device)\n",
    "\n",
    "    def forward(self, inputs):\n",
    "        embeds = self.embeddings(inputs)\n",
    "        embeds = torch.sum(embeds, dim=0, keepdim=True)\n",
    "        out = self.linear(embeds)\n",
    "        return F.log_softmax(out, dim=1)  # softmax compute log probability\n",
    "\n",
    "\n",
    "loss_function = nn.NLLLoss()\n",
    "model = Model(len(vocab), EMBEDDING_DIM, CONTEXT_SIZE)\n",
    "\n",
    "optimizer = optim.Adam(model.parameters(), lr=LR)\n",
    "\n",
    "    \n",
    "def generate_batches(data_, batch_size):\n",
    "    for i in range(0, len(data_), batch_size):\n",
    "        yield data_[i: i + batch_size]\n"
   ],
   "metadata": {
    "collapsed": false,
    "ExecuteTime": {
     "end_time": "2024-06-23T15:12:02.369460Z",
     "start_time": "2024-06-23T15:12:02.361647Z"
    }
   },
   "id": "6a26cff78cf34c2e"
  },
  {
   "cell_type": "code",
   "execution_count": 11,
   "outputs": [
    {
     "name": "stdout",
     "output_type": "stream",
     "text": [
      "Epoch 1/100 | Loss: 7851.97 | Time: 28.87s\n",
      "Epoch 2/100 | Loss: 6665.59 | Time: 28.17s\n",
      "Epoch 3/100 | Loss: 6164.05 | Time: 28.97s\n",
      "Epoch 4/100 | Loss: 5819.56 | Time: 28.59s\n",
      "Epoch 5/100 | Loss: 5566.97 | Time: 28.81s\n",
      "Epoch 6/100 | Loss: 5371.24 | Time: 26.97s\n",
      "Epoch 7/100 | Loss: 5217.74 | Time: 27.01s\n",
      "Epoch 8/100 | Loss: 5088.81 | Time: 28.20s\n",
      "Epoch 9/100 | Loss: 4984.50 | Time: 28.37s\n",
      "Epoch 10/100 | Loss: 4894.37 | Time: 27.96s\n"
     ]
    },
    {
     "ename": "KeyboardInterrupt",
     "evalue": "",
     "output_type": "error",
     "traceback": [
      "\u001B[0;31m---------------------------------------------------------------------------\u001B[0m",
      "\u001B[0;31mKeyboardInterrupt\u001B[0m                         Traceback (most recent call last)",
      "Cell \u001B[0;32mIn[11], line 17\u001B[0m\n\u001B[1;32m     15\u001B[0m     batch_loss \u001B[38;5;241m+\u001B[39m\u001B[38;5;241m=\u001B[39m loss\n\u001B[1;32m     16\u001B[0m batch_loss \u001B[38;5;241m/\u001B[39m\u001B[38;5;241m=\u001B[39m \u001B[38;5;28mlen\u001B[39m(batch)\n\u001B[0;32m---> 17\u001B[0m \u001B[43mbatch_loss\u001B[49m\u001B[38;5;241;43m.\u001B[39;49m\u001B[43mbackward\u001B[49m\u001B[43m(\u001B[49m\u001B[43m)\u001B[49m\n\u001B[1;32m     18\u001B[0m optimizer\u001B[38;5;241m.\u001B[39mstep()\n\u001B[1;32m     19\u001B[0m total_loss \u001B[38;5;241m+\u001B[39m\u001B[38;5;241m=\u001B[39m batch_loss\u001B[38;5;241m.\u001B[39mitem()\n",
      "File \u001B[0;32m~/PycharmProjects/NLP/venv/lib/python3.10/site-packages/torch/_tensor.py:525\u001B[0m, in \u001B[0;36mTensor.backward\u001B[0;34m(self, gradient, retain_graph, create_graph, inputs)\u001B[0m\n\u001B[1;32m    515\u001B[0m \u001B[38;5;28;01mif\u001B[39;00m has_torch_function_unary(\u001B[38;5;28mself\u001B[39m):\n\u001B[1;32m    516\u001B[0m     \u001B[38;5;28;01mreturn\u001B[39;00m handle_torch_function(\n\u001B[1;32m    517\u001B[0m         Tensor\u001B[38;5;241m.\u001B[39mbackward,\n\u001B[1;32m    518\u001B[0m         (\u001B[38;5;28mself\u001B[39m,),\n\u001B[0;32m   (...)\u001B[0m\n\u001B[1;32m    523\u001B[0m         inputs\u001B[38;5;241m=\u001B[39minputs,\n\u001B[1;32m    524\u001B[0m     )\n\u001B[0;32m--> 525\u001B[0m \u001B[43mtorch\u001B[49m\u001B[38;5;241;43m.\u001B[39;49m\u001B[43mautograd\u001B[49m\u001B[38;5;241;43m.\u001B[39;49m\u001B[43mbackward\u001B[49m\u001B[43m(\u001B[49m\n\u001B[1;32m    526\u001B[0m \u001B[43m    \u001B[49m\u001B[38;5;28;43mself\u001B[39;49m\u001B[43m,\u001B[49m\u001B[43m \u001B[49m\u001B[43mgradient\u001B[49m\u001B[43m,\u001B[49m\u001B[43m \u001B[49m\u001B[43mretain_graph\u001B[49m\u001B[43m,\u001B[49m\u001B[43m \u001B[49m\u001B[43mcreate_graph\u001B[49m\u001B[43m,\u001B[49m\u001B[43m \u001B[49m\u001B[43minputs\u001B[49m\u001B[38;5;241;43m=\u001B[39;49m\u001B[43minputs\u001B[49m\n\u001B[1;32m    527\u001B[0m \u001B[43m\u001B[49m\u001B[43m)\u001B[49m\n",
      "File \u001B[0;32m~/PycharmProjects/NLP/venv/lib/python3.10/site-packages/torch/autograd/__init__.py:267\u001B[0m, in \u001B[0;36mbackward\u001B[0;34m(tensors, grad_tensors, retain_graph, create_graph, grad_variables, inputs)\u001B[0m\n\u001B[1;32m    262\u001B[0m     retain_graph \u001B[38;5;241m=\u001B[39m create_graph\n\u001B[1;32m    264\u001B[0m \u001B[38;5;66;03m# The reason we repeat the same comment below is that\u001B[39;00m\n\u001B[1;32m    265\u001B[0m \u001B[38;5;66;03m# some Python versions print out the first line of a multi-line function\u001B[39;00m\n\u001B[1;32m    266\u001B[0m \u001B[38;5;66;03m# calls in the traceback and some print out the last line\u001B[39;00m\n\u001B[0;32m--> 267\u001B[0m \u001B[43m_engine_run_backward\u001B[49m\u001B[43m(\u001B[49m\n\u001B[1;32m    268\u001B[0m \u001B[43m    \u001B[49m\u001B[43mtensors\u001B[49m\u001B[43m,\u001B[49m\n\u001B[1;32m    269\u001B[0m \u001B[43m    \u001B[49m\u001B[43mgrad_tensors_\u001B[49m\u001B[43m,\u001B[49m\n\u001B[1;32m    270\u001B[0m \u001B[43m    \u001B[49m\u001B[43mretain_graph\u001B[49m\u001B[43m,\u001B[49m\n\u001B[1;32m    271\u001B[0m \u001B[43m    \u001B[49m\u001B[43mcreate_graph\u001B[49m\u001B[43m,\u001B[49m\n\u001B[1;32m    272\u001B[0m \u001B[43m    \u001B[49m\u001B[43minputs\u001B[49m\u001B[43m,\u001B[49m\n\u001B[1;32m    273\u001B[0m \u001B[43m    \u001B[49m\u001B[43mallow_unreachable\u001B[49m\u001B[38;5;241;43m=\u001B[39;49m\u001B[38;5;28;43;01mTrue\u001B[39;49;00m\u001B[43m,\u001B[49m\n\u001B[1;32m    274\u001B[0m \u001B[43m    \u001B[49m\u001B[43maccumulate_grad\u001B[49m\u001B[38;5;241;43m=\u001B[39;49m\u001B[38;5;28;43;01mTrue\u001B[39;49;00m\u001B[43m,\u001B[49m\n\u001B[1;32m    275\u001B[0m \u001B[43m\u001B[49m\u001B[43m)\u001B[49m\n",
      "File \u001B[0;32m~/PycharmProjects/NLP/venv/lib/python3.10/site-packages/torch/autograd/graph.py:744\u001B[0m, in \u001B[0;36m_engine_run_backward\u001B[0;34m(t_outputs, *args, **kwargs)\u001B[0m\n\u001B[1;32m    742\u001B[0m     unregister_hooks \u001B[38;5;241m=\u001B[39m _register_logging_hooks_on_whole_graph(t_outputs)\n\u001B[1;32m    743\u001B[0m \u001B[38;5;28;01mtry\u001B[39;00m:\n\u001B[0;32m--> 744\u001B[0m     \u001B[38;5;28;01mreturn\u001B[39;00m \u001B[43mVariable\u001B[49m\u001B[38;5;241;43m.\u001B[39;49m\u001B[43m_execution_engine\u001B[49m\u001B[38;5;241;43m.\u001B[39;49m\u001B[43mrun_backward\u001B[49m\u001B[43m(\u001B[49m\u001B[43m  \u001B[49m\u001B[38;5;66;43;03m# Calls into the C++ engine to run the backward pass\u001B[39;49;00m\n\u001B[1;32m    745\u001B[0m \u001B[43m        \u001B[49m\u001B[43mt_outputs\u001B[49m\u001B[43m,\u001B[49m\u001B[43m \u001B[49m\u001B[38;5;241;43m*\u001B[39;49m\u001B[43margs\u001B[49m\u001B[43m,\u001B[49m\u001B[43m \u001B[49m\u001B[38;5;241;43m*\u001B[39;49m\u001B[38;5;241;43m*\u001B[39;49m\u001B[43mkwargs\u001B[49m\n\u001B[1;32m    746\u001B[0m \u001B[43m    \u001B[49m\u001B[43m)\u001B[49m  \u001B[38;5;66;03m# Calls into the C++ engine to run the backward pass\u001B[39;00m\n\u001B[1;32m    747\u001B[0m \u001B[38;5;28;01mfinally\u001B[39;00m:\n\u001B[1;32m    748\u001B[0m     \u001B[38;5;28;01mif\u001B[39;00m attach_logging_hooks:\n",
      "\u001B[0;31mKeyboardInterrupt\u001B[0m: "
     ]
    }
   ],
   "source": [
    "## Training ##\n",
    "# TRAIN:\n",
    "losses = []\n",
    "for epoch in range(EPOCH):\n",
    "    start = time.time()\n",
    "    total_loss = 0\n",
    "    for batch in generate_batches(data, BATCH_SIZE):\n",
    "        batch_loss = 0\n",
    "        # Accumulate gradients over the batch\n",
    "        model.zero_grad()\n",
    "        for context, target in batch:\n",
    "            context_idxs = torch.tensor([word_to_ix[w] for w in context], dtype=torch.long).to(device)\n",
    "            log_probs = model(context_idxs)\n",
    "            loss = loss_function(log_probs, torch.tensor([word_to_ix[target]], dtype=torch.long).to(device))\n",
    "            batch_loss += loss\n",
    "        batch_loss /= len(batch)\n",
    "        batch_loss.backward()\n",
    "        optimizer.step()\n",
    "        total_loss += batch_loss.item()\n",
    "    \n",
    "    losses.append(total_loss)\n",
    "    print(f'Epoch {epoch+1}/{EPOCH} | Loss: {total_loss:.2f} | Time: {time.time() - start:.2f}s')\n"
   ],
   "metadata": {
    "collapsed": false,
    "ExecuteTime": {
     "end_time": "2024-06-23T15:16:59.533411Z",
     "start_time": "2024-06-23T15:12:12.327826Z"
    }
   },
   "id": "a727a3721d0f180b"
  },
  {
   "cell_type": "code",
   "execution_count": null,
   "outputs": [],
   "source": [
    "    "
   ],
   "metadata": {
    "collapsed": false
   },
   "id": "9af0b77ad8f580bf"
  }
 ],
 "metadata": {
  "kernelspec": {
   "display_name": "Python 3",
   "language": "python",
   "name": "python3"
  },
  "language_info": {
   "codemirror_mode": {
    "name": "ipython",
    "version": 2
   },
   "file_extension": ".py",
   "mimetype": "text/x-python",
   "name": "python",
   "nbconvert_exporter": "python",
   "pygments_lexer": "ipython2",
   "version": "2.7.6"
  }
 },
 "nbformat": 4,
 "nbformat_minor": 5
}
